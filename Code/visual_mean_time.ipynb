{
  "nbformat": 4,
  "nbformat_minor": 0,
  "metadata": {
    "colab": {
      "provenance": []
    },
    "kernelspec": {
      "name": "python3",
      "display_name": "Python 3"
    },
    "language_info": {
      "name": "python"
    }
  },
  "cells": [
    {
      "cell_type": "code",
      "source": [
        "import pandas as pd\n",
        "import pickle\n",
        "\n",
        "with open(\"total_times.pkl\", 'rb') as file:\n",
        "  total_times = pickle.load(file)\n",
        "with open(\"list_times3.pkl\", 'rb') as file:\n",
        "  list_time = pickle.load(file)\n",
        "\n",
        "for key in list_time:\n",
        "  if key in total_times:\n",
        "    total_times[key] = total_times[key] + list_time[key]\n",
        "  else:\n",
        "    total_times[key] = list_time[key]\n",
        "with open(\"total_times.pkl\", 'wb') as file:\n",
        "  pickle.dump(total_times,file)"
      ],
      "metadata": {
        "id": "0MBw3f9DNoou"
      },
      "execution_count": null,
      "outputs": []
    },
    {
      "cell_type": "code",
      "source": [
        "for key,value in total_times.items():\n",
        "  total_times[key] = value / 8\n",
        "total_times"
      ],
      "metadata": {
        "id": "boHZD4JKUs3f"
      },
      "execution_count": null,
      "outputs": []
    },
    {
      "cell_type": "code",
      "source": [
        "import numpy as np\n",
        "import matplotlib.pyplot as plt\n",
        "\n",
        "\n",
        "keys = ['Backward', 'Forward', 'Recursive', 'P. C.', 'Fish score', 'M. I.', 'Lasso']\n",
        "values = [\n",
        "    total_times['Back_time'],\n",
        "    total_times['For_time'],\n",
        "    total_times['Rec_time'],\n",
        "    total_times['Corr_time'],\n",
        "    total_times['Fish_time'],\n",
        "    total_times['IG_time'],\n",
        "    total_times['Lasso_time']\n",
        "]\n",
        "\n",
        "plt.figure(figsize=(10, 6))\n",
        "\n",
        "\n",
        "patterns = ['/', '\\\\', '|', '-', '+', 'x', 'o']\n",
        "hatch_colors = ['red', 'blue', 'green', 'purple', 'orange', 'cyan', 'magenta']\n",
        "colors = ['none'] * len(values)\n",
        "\n",
        "\n",
        "bars = plt.bar(keys, values, color=colors, edgecolor='black')\n",
        "\n",
        "\n",
        "for bar, pattern, hatch_color in zip(bars, patterns, hatch_colors):\n",
        "    bar.set_hatch(pattern)\n",
        "    bar.set_edgecolor(hatch_color)\n",
        "\n",
        "plt.yscale('log')\n",
        "\n",
        "plt.xlabel('Techniques', fontsize=12)\n",
        "plt.ylabel('Time (seconds, log scale)', fontsize=12)\n",
        "plt.title('Execution Time for Feature Selection Techniques with Patterns and Colors', fontsize=14)\n",
        "\n",
        "\n",
        "plt.xticks(rotation=45, ha='right')\n",
        "\n",
        "plt.tight_layout()\n",
        "\n",
        "plt.show()\n"
      ],
      "metadata": {
        "id": "bZiEajuBVJ0S"
      },
      "execution_count": null,
      "outputs": []
    }
  ]
}
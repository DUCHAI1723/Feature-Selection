{
  "nbformat": 4,
  "nbformat_minor": 0,
  "metadata": {
    "colab": {
      "provenance": []
    },
    "kernelspec": {
      "name": "python3",
      "display_name": "Python 3"
    },
    "language_info": {
      "name": "python"
    }
  },
  "cells": [
    {
      "cell_type": "code",
      "source": [
        "import pandas as pd\n",
        "import pickle\n",
        "total_time = {}\n",
        "with open(\"total_time.pkl\",'wb') as file:\n",
        "  pickle.dump(total_time,file)"
      ],
      "metadata": {
        "id": "CLPYK5UCIAQZ"
      },
      "execution_count": null,
      "outputs": []
    },
    {
      "cell_type": "code",
      "source": [
        "with open(\"total_time.pkl\", 'rb') as file:\n",
        "  total_time = pickle.load(file)\n",
        "with open(\"list_times3.pkl\", 'rb') as file:\n",
        "  list_time = pickle.load(file)\n",
        "\n",
        "for key in list_time:\n",
        "  if key in total_time:\n",
        "    total_time[key] = total_time[key] + list_time[key]\n",
        "  else:\n",
        "    total_time[key] = list_time[key]\n",
        "with open(\"total_time.pkl\", 'wb') as file:\n",
        "  pickle.dump(total_time,file)"
      ],
      "metadata": {
        "id": "0MBw3f9DNoou"
      },
      "execution_count": null,
      "outputs": []
    },
    {
      "cell_type": "code",
      "source": [
        "for key,value in total_time.items():\n",
        "  total_time[key] = value / 8\n",
        "total_time"
      ],
      "metadata": {
        "id": "boHZD4JKUs3f"
      },
      "execution_count": null,
      "outputs": []
    },
    {
      "cell_type": "code",
      "source": [
        "import numpy as np\n",
        "import matplotlib.pyplot as plt\n",
        "\n",
        "\n",
        "keys = ['Backward', 'Forward', 'Recursive', 'P. C.', 'Fish score', 'M. I.', 'Lasso']\n",
        "values = [\n",
        "    total_time['Back_time'],\n",
        "    total_time['For_time'],\n",
        "    total_time['Rec_time'],\n",
        "    total_time['Corr_time'],\n",
        "    total_time['Fish_time'],\n",
        "    total_time['IG_time'],\n",
        "    total_time['Lasso_time']\n",
        "]\n",
        "\n",
        "plt.figure(figsize=(10, 6))\n",
        "\n",
        "\n",
        "patterns = ['/', '\\\\', '|', '-', '+', 'x', 'o']\n",
        "hatch_colors = ['red', 'blue', 'green', 'purple', 'orange', 'cyan', 'magenta']\n",
        "colors = ['none'] * len(values)\n",
        "\n",
        "\n",
        "bars = plt.bar(keys, values, color=colors, edgecolor='black')\n",
        "\n",
        "\n",
        "for bar, pattern, hatch_color in zip(bars, patterns, hatch_colors):\n",
        "    bar.set_hatch(pattern)\n",
        "    bar.set_edgecolor(hatch_color)\n",
        "\n",
        "plt.yscale('log')\n",
        "\n",
        "\n",
        "plt.ylabel('Running time (in seconds)', fontsize=22)\n",
        "\n",
        "plt.xticks(rotation=45, ha='right', fontsize = 22)\n",
        "plt.yticks(fontsize = 25)\n",
        "plt.tight_layout()\n",
        "\n",
        "plt.show()\n"
      ],
      "metadata": {
        "id": "bZiEajuBVJ0S"
      },
      "execution_count": null,
      "outputs": []
    },
    {
      "cell_type": "code",
      "source": [],
      "metadata": {
        "id": "iUuGW3TfJDC4"
      },
      "execution_count": null,
      "outputs": []
    }
  ]
}
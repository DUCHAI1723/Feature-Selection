{
  "nbformat": 4,
  "nbformat_minor": 0,
  "metadata": {
    "colab": {
      "provenance": []
    },
    "kernelspec": {
      "name": "python3",
      "display_name": "Python 3"
    },
    "language_info": {
      "name": "python"
    }
  },
  "cells": [
    {
      "cell_type": "code",
      "execution_count": null,
      "metadata": {
        "id": "VzcwmFjnvgxS"
      },
      "outputs": [],
      "source": [
        "import pandas as pd\n",
        "import numpy as np\n",
        "import matplotlib.pyplot as plt\n",
        "import seaborn as sns\n",
        "\n",
        "df = pd.read_excel(\"/content/MEAN.xlsx\")\n",
        "df.rename(columns={'Unnamed: 0': \"Method\"}, inplace=True)\n",
        "df = df.loc[:, [\"Method\",\"Backward\", \"Forward\", \"Recur\", \"Corr\",\"Fish\",\"IG\",\"Lasso\", \"all\", 0.05]]\n",
        "\n",
        "rename_dict = {\n",
        "    \"Backward\": \"Backward\",\n",
        "    \"Forward\": \"Forward\",\n",
        "    \"Recur\": \"Recursive\",\n",
        "    \"Corr\": \"P. C.\",\n",
        "    \"Fish\": \"Fish score\",\n",
        "    \"IG\": \"M. I.\",\n",
        "    \"Lasso\": \"Lasso\",\n",
        "    \"all\": \"all\",\n",
        "    0.05: \"0.05\"\n",
        "}\n",
        "\n",
        "\n",
        "df = df.rename(columns=rename_dict)\n",
        "\n",
        "df.set_index('Method', inplace=True)\n",
        "\n",
        "df_transposed = df.T\n",
        "\n",
        "fig, ax = plt.subplots(figsize=(17, 7))\n",
        "\n",
        "patterns = ['/', '||','\\\\',  '-']\n",
        "hatch_colors = ['red', 'blue', 'green', 'purple']\n",
        "\n",
        "bars = df_transposed.plot(kind='bar', ax=ax, color='none', edgecolor='black', width=0.8)\n",
        "\n",
        "for i, bar in enumerate(bars.patches):\n",
        "    group_index = i // len(df_transposed.index)\n",
        "    bar.set_hatch(patterns[group_index % len(patterns)])\n",
        "    bar.set_edgecolor(hatch_colors[group_index % len(hatch_colors)])\n",
        "\n",
        "\n",
        "ax.set_ylabel('Accuracy', fontsize=30)\n",
        "\n",
        "plt.ylim(0.2, 0.8)\n",
        "\n",
        "\n",
        "plt.legend(loc='upper center', ncol=4, fontsize=18)\n",
        "\n",
        "plt.xticks(fontsize=30, rotation=45, ha='right')\n",
        "plt.yticks(fontsize=30)\n",
        "\n",
        "plt.tight_layout()\n",
        "plt.show()\n"
      ]
    }
  ]
}
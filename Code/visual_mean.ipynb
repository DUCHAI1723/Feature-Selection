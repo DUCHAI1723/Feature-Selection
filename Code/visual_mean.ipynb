{
  "cells": [
    {
      "cell_type": "code",
      "execution_count": null,
      "metadata": {
        "id": "VzcwmFjnvgxS"
      },
      "outputs": [],
      "source": [
        "import pandas as pd\n",
        "import numpy as np\n",
        "import matplotlib.pyplot as plt\n",
        "import seaborn as sns\n",
        "\n",
        "df = pd.read_excel(\"/content/MEAN.xlsx\")\n",
        "df.rename(columns={'Unnamed: 0': \"Method\"}, inplace=True)\n",
        "df = df.loc[:, [\"Method\",\"Backward\", \"Forward\", \"Recur\", \"Corr\",\"Fish\",\"IG\",\"Lasso\", \"all\", 0.05]]\n",
        "\n",
        "\n",
        "rename_dict = {\n",
        "    \"Backward\": \"Backward\",\n",
        "    \"Forward\": \"Forward\",\n",
        "    \"Recur\": \"Recursive\",\n",
        "    \"Corr\": \"P. C.\",\n",
        "    \"Fish\": \"Fish score\",\n",
        "    \"IG\": \"M. I.\",\n",
        "    \"Lasso\": \"Lasso\",\n",
        "    \"all\": \"All\",\n",
        "    0.05: \"T5FS\"\n",
        "}\n",
        "\n",
        "df = df.rename(columns=rename_dict)\n",
        "df['Method'] = df['Method'].replace({'SVC': 'SVM'})\n",
        "\n",
        "df = df.set_index('Method').loc[['Decision Tree', 'Naive Bayes', 'KNN', 'SVM']]\n",
        "\n",
        "df_transposed = df.T\n",
        "\n",
        "fig, ax = plt.subplots(figsize=(17, 10))\n",
        "\n",
        "patterns = ['/', '||','\\\\\\\\',  '-']\n",
        "hatch_colors = ['red', 'blue', 'green', 'purple']\n",
        "\n",
        "bars = df_transposed.plot(kind='bar', ax=ax, color='none', edgecolor='black', width=0.8)\n",
        "\n",
        "for i, bar in enumerate(bars.patches):\n",
        "    group_index = i // len(df_transposed.index)\n",
        "    bar.set_hatch(patterns[group_index % len(patterns)])\n",
        "    bar.set_edgecolor(hatch_colors[group_index % len(hatch_colors)])\n",
        "\n",
        "\n",
        "ax.set_ylabel('Accuracy', fontsize=40)\n",
        "\n",
        "plt.ylim(0.5, 1)\n",
        "\n",
        "new_labels = ['DT', 'NB', 'KNN', 'SVM']\n",
        "plt.legend(new_labels, loc='lower center',  bbox_to_anchor=(0.5, 1), ncol=4, fontsize=40)\n",
        "plt.xticks(fontsize=35, rotation=45, ha='right')\n",
        "plt.yticks(fontsize=35)\n",
        "\n",
        "plt.tight_layout()\n",
        "plt.show()"
      ]
    },
    {
      "cell_type": "code",
      "execution_count": null,
      "metadata": {
        "id": "SsaVjihr-hoc"
      },
      "outputs": [],
      "source": []
    }
  ],
  "metadata": {
    "colab": {
      "provenance": []
    },
    "kernelspec": {
      "display_name": "Python 3",
      "name": "python3"
    },
    "language_info": {
      "name": "python"
    }
  },
  "nbformat": 4,
  "nbformat_minor": 0
}
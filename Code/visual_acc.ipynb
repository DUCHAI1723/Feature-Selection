{
  "nbformat": 4,
  "nbformat_minor": 0,
  "metadata": {
    "colab": {
      "provenance": []
    },
    "kernelspec": {
      "name": "python3",
      "display_name": "Python 3"
    },
    "language_info": {
      "name": "python"
    }
  },
  "cells": [
    {
      "cell_type": "code",
      "execution_count": null,
      "metadata": {
        "id": "ef-zHNgIq7R7"
      },
      "outputs": [],
      "source": [
        "import pandas as pd\n",
        "import numpy as np\n",
        "import matplotlib.pyplot as plt\n",
        "import seaborn as sns\n",
        "\n",
        "def read_accuracies(file_path, sheet_name):\n",
        "    detailed_results_df = pd.read_excel(file_path, sheet_name=sheet_name)\n",
        "    return {\n",
        "        'SVC': detailed_results_df['SVC Accuracies'],\n",
        "        'NB': detailed_results_df['Naive Bayes Accuracies'],\n",
        "        'DT': detailed_results_df['Decision Tree Accuracies'],\n",
        "        'KNN': detailed_results_df['KNN Accuracies']\n",
        "    }\n",
        "\n",
        "\n",
        "datasets = {\n",
        "    'ALL': '/content/model_accuracies_All_Feature.xlsx',\n",
        "    'Arr': '/content/model_accuracies_5%_Feature.xlsx',\n",
        "    'IG': '/content/model_accuracies_1%_IG_Feature.xlsx',\n",
        "    'Fish': '/content/model_accuracies_1%_FISH_Feature.xlsx',\n",
        "    'Corr': '/content/model_accuracies_1%_CORR_Feature.xlsx',\n",
        "    'Forward': '/content/model_accuracies_1%_FOR_Feature.xlsx',\n",
        "    'Backward': '/content/model_accuracies_1%_BACK_Feature.xlsx',\n",
        "    'Recursive': '/content/model_accuracies_1%_RECURSIVE_Feature.xlsx',\n",
        "    'Lasso': '/content/model_accuracies_1%_LASSO_Feature.xlsx'\n",
        "}\n",
        "\n",
        "accuracies = {name: read_accuracies(path, 'Detailed Accuracies') for name, path in datasets.items()}\n",
        "\n",
        "\n",
        "dataSVM = [accuracies[name]['SVC'] for name in datasets]\n",
        "dataNB = [accuracies[name]['NB'] for name in datasets]\n",
        "dataDT = [accuracies[name]['DT'] for name in datasets]\n",
        "dataKNN = [accuracies[name]['KNN'] for name in datasets]\n",
        "\n",
        "ticks = ['100%', '5%', 'IG', 'Fish', 'Corr', 'Forward', 'Backward', 'Recursive', 'Lasso']\n",
        "\n",
        "\n",
        "def define_box_properties(plot_name, color_code, label):\n",
        "    for k, v in plot_name.items():\n",
        "        plt.setp(plot_name.get(k), color=color_code)\n",
        "    plt.plot([], c=color_code, label=label)\n",
        "    plt.legend()\n",
        "\n",
        "plt.figure(figsize=(12, 8))\n",
        "\n",
        "positions = np.array(range(len(dataSVM))) * 10\n",
        "bpSVM = plt.boxplot(dataSVM, positions=positions - 2, sym='', widths=0.6)\n",
        "bpNB = plt.boxplot(dataNB, positions=positions - 1, sym='', widths=0.6)\n",
        "bpDT = plt.boxplot(dataDT, positions=positions + 1, sym='', widths=0.6)\n",
        "bpKNN = plt.boxplot(dataKNN, positions=positions + 2, sym='', widths=0.6)\n",
        "\n",
        "\n",
        "define_box_properties(bpSVM, '#ff7f0e', 'SVM')\n",
        "define_box_properties(bpNB, '#2ca02c', 'NB')\n",
        "define_box_properties(bpDT, '#d62728', 'DT')\n",
        "define_box_properties(bpKNN, '#9467bd', 'KNN')\n",
        "\n",
        "\n",
        "\n",
        "plt.xticks(range(0, len(ticks) * 10, 10), ticks, rotation=45, ha='right')\n",
        "plt.xlim(-5, len(ticks) * 10 - 5)\n",
        "plt.ylim(0, 0.9)\n",
        "plt.legend(loc='lower center', ncol=4, bbox_to_anchor=(0.5, 0), fontsize = 25)\n",
        "plt.xticks(fontsize = 30)\n",
        "plt.yticks(fontsize = 30)\n",
        "plt.tight_layout()\n",
        "\n",
        "plt.show()\n"
      ]
    }
  ]
}
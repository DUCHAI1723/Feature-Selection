{
  "nbformat": 4,
  "nbformat_minor": 0,
  "metadata": {
    "colab": {
      "provenance": []
    },
    "kernelspec": {
      "name": "python3",
      "display_name": "Python 3"
    },
    "language_info": {
      "name": "python"
    }
  },
  "cells": [
    {
      "cell_type": "code",
      "source": [
        "import numpy as np\n",
        "import matplotlib.pyplot as plt\n",
        "import pickle\n",
        "\n",
        "\n",
        "with open(\"list_times1.pkl\", \"rb\") as file:\n",
        "    list_time = pickle.load(file)\n",
        "\n",
        "\n",
        "filter_techniques = ['P. C.', 'Fish score', 'M. I.']\n",
        "wrapper_techniques = ['Backward','Forward',  'Recursive']\n",
        "embedded_techniques = ['Lasso']\n",
        "\n",
        "filter_times = [list_time['Corr_time'], list_time['Fish_time'], list_time['IG_time']]\n",
        "wrapper_times = [list_time['Back_time'],list_time['For_time'],  list_time['Rec_time']]\n",
        "embedded_times = [list_time['Lasso_time']]\n",
        "\n",
        "techniques = wrapper_techniques + filter_techniques + embedded_techniques\n",
        "times = filter_times + wrapper_times + embedded_times\n",
        "\n",
        "bar_width = 0.3\n",
        "index = np.arange(len(techniques))\n",
        "\n",
        "fig, ax = plt.subplots(figsize=(15, 8))\n",
        "\n",
        "\n",
        "ax.bar(index[:len(filter_techniques)], filter_times, bar_width, label='Filter',\n",
        "       color='none', edgecolor='blue', hatch='//')\n",
        "ax.bar(index[len(filter_techniques):len(filter_techniques) + len(wrapper_techniques)],\n",
        "       wrapper_times, bar_width, label='Wrapper', color='none', edgecolor='orange', hatch='||')\n",
        "ax.bar(index[len(filter_techniques) + len(wrapper_techniques):],\n",
        "       embedded_times, bar_width, label='Embedded', color='none', edgecolor='green', hatch='x')\n",
        "\n",
        "ax.set_ylabel('Runtime (ms)', fontsize=30)\n",
        "ax.set_xticks(index)\n",
        "ax.set_xticklabels(techniques, rotation=30, ha=\"right\", fontsize=20)  # Giảm kích thước font chữ cho dễ đọc\n",
        "\n",
        "plt.legend(loc='upper left', ncol=3, fontsize=17)\n",
        "plt.yticks(fontsize=20)\n",
        "ax.set_yscale('log')\n",
        "\n",
        "plt.tight_layout()\n",
        "plt.show()\n"
      ],
      "metadata": {
        "id": "E313H_QNBmt_"
      },
      "execution_count": null,
      "outputs": []
    },
    {
      "cell_type": "code",
      "source": [],
      "metadata": {
        "id": "zKd9YPn9-iQ1"
      },
      "execution_count": null,
      "outputs": []
    }
  ]
}